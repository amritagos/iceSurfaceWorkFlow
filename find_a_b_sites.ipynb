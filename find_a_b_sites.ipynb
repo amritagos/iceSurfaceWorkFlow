{
 "cells": [
  {
   "cell_type": "code",
   "execution_count": 44,
   "metadata": {},
   "outputs": [],
   "source": [
    "import ase \n",
    "from ase.io import read, Trajectory\n",
    "import numpy as np\n",
    "from pathlib import Path"
   ]
  },
  {
   "cell_type": "code",
   "execution_count": 45,
   "metadata": {},
   "outputs": [],
   "source": [
    "# Input conditions\n",
    "z_layer_max = 29.28\n",
    "z_layer_min = 27.4\n",
    "# script_dir = Path(__file__).resolve().parent\n",
    "# infilename = script_dir / \"../res/ice-scme-1.000000-new.data\"\n",
    "infilename = \"/home/amritagos/Git/Github/iceSurfaceWorkFlow/res/ice-scme-1.000000-new.data\"\n",
    "# infilename = \"/home/amritagos/Git/Gitlab/scmecpp/ice-scme-1.000000-new.traj\"\n",
    "# Symbols for elements \n",
    "h_sym = 'H'\n",
    "o_sym = 'He'"
   ]
  },
  {
   "cell_type": "code",
   "execution_count": 46,
   "metadata": {},
   "outputs": [
    {
     "data": {
      "text/plain": [
       "Atoms(symbols='H1536He768', pbc=True, cell=[26.9814, 31.1556, 29.2844], id=..., initial_charges=..., mmcharges=..., mol-id=..., type=...)"
      ]
     },
     "execution_count": 46,
     "metadata": {},
     "output_type": "execute_result"
    }
   ],
   "source": [
    "# Read in stuff \n",
    "surface_system = read(infilename, format=\"lammps-data\")\n",
    "# surface_system = Trajectory(infilename)[-1]\n",
    "surface_system"
   ]
  },
  {
   "cell_type": "code",
   "execution_count": 52,
   "metadata": {},
   "outputs": [
    {
     "data": {
      "text/plain": [
       "48"
      ]
     },
     "execution_count": 52,
     "metadata": {},
     "output_type": "execute_result"
    }
   ],
   "source": [
    "# Find O atoms in the top part of the topmost bilayer\n",
    "top_o_ind = []\n",
    "for Atom in surface_system:\n",
    "    if Atom.symbol == o_sym:\n",
    "        if Atom.position[2] > z_layer_min and Atom.position[2] < z_layer_max:\n",
    "            top_o_ind.append(Atom.index)\n",
    "len(top_o_ind)"
   ]
  }
 ],
 "metadata": {
  "kernelspec": {
   "display_name": "Python 3",
   "language": "python",
   "name": "python3"
  },
  "language_info": {
   "codemirror_mode": {
    "name": "ipython",
    "version": 3
   },
   "file_extension": ".py",
   "mimetype": "text/x-python",
   "name": "python",
   "nbconvert_exporter": "python",
   "pygments_lexer": "ipython3",
   "version": "3.10.14"
  }
 },
 "nbformat": 4,
 "nbformat_minor": 2
}
