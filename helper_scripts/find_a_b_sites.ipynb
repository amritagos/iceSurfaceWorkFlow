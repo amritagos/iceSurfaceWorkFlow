{
 "cells": [
  {
   "cell_type": "code",
   "execution_count": 101,
   "metadata": {},
   "outputs": [],
   "source": [
    "import ase \n",
    "from ase.io import read, Trajectory\n",
    "import numpy as np\n",
    "from pathlib import Path"
   ]
  },
  {
   "cell_type": "code",
   "execution_count": 102,
   "metadata": {},
   "outputs": [],
   "source": [
    "# Input conditions\n",
    "z_layer_max = 29.28 # not needed \n",
    "z_layer_min = 12.11\n",
    "# script_dir = Path(__file__).resolve().parent\n",
    "# infilename = script_dir / \"../res/ice-scme-1.000000-new.data\"\n",
    "infilename = \"/home/amritagos/Git/Github/iceSurfaceWorkFlow/res/seed_500_1.xyz\"\n",
    "# infilename = \"/home/amritagos/Git/Gitlab/scmecpp/ice-scme-1.000000-new.traj\"\n",
    "# Symbols for elements \n",
    "h_sym = 'H'\n",
    "o_sym = 'O'\n",
    "# Cutoffs \n",
    "# O-O cutoff in the topmost layer (Angstrom)\n",
    "o_o_top_cutoff = 5.0\n",
    "# O-H intramolecular cutoff \n",
    "o_h_bond_cutoff = 1.0"
   ]
  },
  {
   "cell_type": "code",
   "execution_count": 103,
   "metadata": {},
   "outputs": [
    {
     "data": {
      "text/plain": [
       "Atoms(symbols='H768O384', pbc=True, cell=[30.590228902373884, 26.502128397830692, 64.3776113293897])"
      ]
     },
     "execution_count": 103,
     "metadata": {},
     "output_type": "execute_result"
    }
   ],
   "source": [
    "# Read in stuff \n",
    "surface_system = read(infilename, format=\"extxyz\") # lammps-data\n",
    "# surface_system = Trajectory(infilename)[-1]\n",
    "surface_system"
   ]
  },
  {
   "cell_type": "code",
   "execution_count": 104,
   "metadata": {},
   "outputs": [
    {
     "data": {
      "text/plain": [
       "48"
      ]
     },
     "execution_count": 104,
     "metadata": {},
     "output_type": "execute_result"
    }
   ],
   "source": [
    "# Find O atoms in the top part of the topmost bilayer\n",
    "top_o_ind = []\n",
    "for Atom in surface_system:\n",
    "    if Atom.symbol == o_sym:\n",
    "        if Atom.position[2] > z_layer_min:\n",
    "            top_o_ind.append(Atom.index)\n",
    "len(top_o_ind)"
   ]
  },
  {
   "cell_type": "code",
   "execution_count": 105,
   "metadata": {},
   "outputs": [],
   "source": [
    "# Add neighbour to o_o_neigh dict\n",
    "def add_neighbour(neigh_dict, center_ind, neigh_ind):\n",
    "    if neigh_dict.get(center_ind) is None:\n",
    "        neigh_dict[center_ind] = [neigh_ind]\n",
    "    else:\n",
    "        neighbours = neigh_dict[center_ind]\n",
    "        neighbours.append(neigh_ind)\n",
    "        neigh_dict.update({center_ind:neighbours})\n",
    "\n",
    "# Get the Hydrogen atoms bonded to the topmost O atoms and other topmost O atoms \n",
    "o_h_neigh = dict()\n",
    "o_o_neigh = dict()\n",
    "\n",
    "# H atoms bonded to O atoms \n",
    "for i_ind in top_o_ind:\n",
    "    h_indices = []\n",
    "    for Atom in surface_system:\n",
    "        if Atom.symbol == h_sym:\n",
    "            if surface_system.get_distance(i_ind, Atom.index)<o_h_bond_cutoff:\n",
    "                h_indices.append(Atom.index)\n",
    "        if len(h_indices)==2:\n",
    "            o_h_neigh[i_ind] = h_indices\n",
    "            break\n",
    "\n",
    "# Topmost O atoms connected to topmost O atoms \n",
    "for i in range(len(top_o_ind)-1):\n",
    "    i_ind = top_o_ind[i]\n",
    "    for j in range(i+1, len(top_o_ind)):\n",
    "        j_ind = top_o_ind[j]\n",
    "        dist_ij = surface_system.get_distance(i_ind, j_ind, mic=True)\n",
    "        if dist_ij < o_o_top_cutoff:\n",
    "            # Add neighbours \n",
    "            add_neighbour(o_o_neigh, i_ind, j_ind)\n",
    "            add_neighbour(o_o_neigh, j_ind, i_ind)"
   ]
  },
  {
   "cell_type": "code",
   "execution_count": 115,
   "metadata": {},
   "outputs": [
    {
     "name": "stdout",
     "output_type": "stream",
     "text": [
      "8\n",
      "10\n",
      "[54, 63, 78]\n",
      "[54, 63, 90]\n"
     ]
    }
   ],
   "source": [
    "# Set of lists (in ascending order) to keep track of visited trios\n",
    "visited_trios = set()\n",
    "# List of lists for A sites and B sites \n",
    "a_sites = []\n",
    "b_sites = []\n",
    "\n",
    "def check_site(trio, a_sites, b_sites, o_h_neigh, atoms):\n",
    "    # Number of dangling hydrogens (set to zero first)\n",
    "    n_dangling_h = 0 \n",
    "    # Loop through the trio O sites \n",
    "    for o_ind in trio:\n",
    "        h_indices = o_h_neigh[o_ind]\n",
    "        # Check the hydrogens\n",
    "        # If the z coordinate of H is greater than the O, it be dangling\n",
    "        for h_ind in h_indices:\n",
    "            if  atoms[h_ind].position[2] > atoms[o_ind].position[2]:\n",
    "                n_dangling_h += 1\n",
    "    # A sites: 1 dangling hydrogen \n",
    "    if n_dangling_h==1:\n",
    "        a_sites.append(trio)\n",
    "    # B sites: 2 dangling hydrogens\n",
    "    elif n_dangling_h==2:\n",
    "        b_sites.append(trio)\n",
    "\n",
    "for center_ind in top_o_ind[:5]:\n",
    "    # Get neighbours of the center \n",
    "    neigh_center = o_o_neigh[center_ind]\n",
    "    # Now loop through neighbours \n",
    "    for i_ind in neigh_center:\n",
    "        # Find common neighbours between the center and i\n",
    "        neigh_i = o_o_neigh[i_ind]\n",
    "        common_ele = list(set(neigh_center).intersection(neigh_i))\n",
    "        # Loop through the common elements to get the trios\n",
    "        for j_ind in common_ele:\n",
    "            trial_trio = [center_ind, i_ind, j_ind]\n",
    "            trial_trio.sort()\n",
    "            # If you've processed the trio already, skip it \n",
    "            if frozenset(trial_trio) in visited_trios:\n",
    "                continue\n",
    "            # Check the trio\n",
    "            else:\n",
    "                visited_trios.add(frozenset(trial_trio))\n",
    "                check_site(trial_trio, a_sites, b_sites, o_h_neigh, surface_system)\n",
    "\n",
    "print(len(a_sites))\n",
    "print(len(b_sites))\n",
    "print(a_sites[0])\n",
    "print(b_sites[0])\n",
    "        "
   ]
  },
  {
   "cell_type": "code",
   "execution_count": 120,
   "metadata": {},
   "outputs": [
    {
     "name": "stdout",
     "output_type": "stream",
     "text": [
      "equal\n"
     ]
    }
   ],
   "source": [
    "output_file_a_sites = Path('/home/amritagos/Git/Github/iceSurfaceWorkFlow/scripts') / 'a_sites_seed_500.npy'\n",
    "output_file_b_sites = Path('/home/amritagos/Git/Github/iceSurfaceWorkFlow/scripts') / 'b_sites_seed_500.npy'\n",
    "\n",
    "np.save(output_file_a_sites, a_sites)\n",
    "np.save(output_file_b_sites, b_sites)\n",
    "\n",
    "a2_sites = np.load(output_file_a_sites)\n",
    "if np.array_equal(a2_sites, a_sites):\n",
    "    print(\"equal\")"
   ]
  }
 ],
 "metadata": {
  "kernelspec": {
   "display_name": "Python 3",
   "language": "python",
   "name": "python3"
  },
  "language_info": {
   "codemirror_mode": {
    "name": "ipython",
    "version": 3
   },
   "file_extension": ".py",
   "mimetype": "text/x-python",
   "name": "python",
   "nbconvert_exporter": "python",
   "pygments_lexer": "ipython3",
   "version": "3.10.14"
  }
 },
 "nbformat": 4,
 "nbformat_minor": 2
}
