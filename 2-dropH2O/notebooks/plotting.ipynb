{
 "cells": [
  {
   "cell_type": "code",
   "execution_count": 14,
   "metadata": {},
   "outputs": [],
   "source": [
    "import matplotlib.pyplot as plt\n",
    "from pathlib import Path\n",
    "import numpy as np\n",
    "import pandas as pd"
   ]
  },
  {
   "cell_type": "code",
   "execution_count": 15,
   "metadata": {},
   "outputs": [],
   "source": [
    "path_to_csv = \"../results/aggregated.csv\"\n",
    "cohesive_energy = -0.618898383010492 #  in eV \n",
    "cohesive_energy_stdev = 0.00230203355051586\n",
    "factor = -1.0 # to get positive values \n",
    "n_bins = 60\n",
    "# Positive value for cohesive energy \n",
    "cohesive_energy = factor*cohesive_energy\n",
    "# Obtain the data\n",
    "df = pd.read_csv(path_to_csv)\n",
    "# Get A, B, C site data \n",
    "df_a_sites = df[df['site_type'] == 'a']\n",
    "df_b_sites = df[df['site_type'] == 'b']\n",
    "df_c_sites = df[df['site_type'] == 'c']\n",
    "energy_a_sites = factor*df_a_sites['binding_energy'].values\n",
    "energy_b_sites = factor*df_b_sites['binding_energy'].values\n",
    "energy_c_sites = factor*df_c_sites['binding_energy'].values"
   ]
  },
  {
   "cell_type": "code",
   "execution_count": 19,
   "metadata": {},
   "outputs": [
    {
     "data": {
      "image/png": "[encoded data removed]",
      "text/plain": [
       "<Figure size 640x480 with 1 Axes>"
      ]
     },
     "metadata": {},
     "output_type": "display_data"
    }
   ],
   "source": [
    "fig, ax = plt.subplots()\n",
    "# Actually make the plot\n",
    "ax.set_xlabel(r\"Binding Energy (eV)\")\n",
    "ax.set_ylabel(\n",
    "    r\"Frequency\", labelpad=1\n",
    ")  # we already handled the x-label with ax1\n",
    "ax.hist(energy_a_sites, bins=n_bins, ls='dashed', lw=3, fc=(0, 0, 1, 0.5), label=\"A sites\") # blue, A sites\n",
    "ax.hist(energy_b_sites, bins=n_bins, ls='dotted', lw=3, fc=(1, 0, 0, 0.5), label=\"B sites\") # red, B sites \n",
    "ax.hist(energy_c_sites, bins=n_bins, ls='dotted', lw=3, fc=\"tab:green\", alpha=0.5,label=\"C sites\") # C sites \n",
    "\n",
    "# ax.set_xlim(0,1.1)\n",
    "\n",
    "# Vertical line through cohesive energy\n",
    "ax.axvline(x=cohesive_energy, color=\"black\", linewidth=2, alpha=0.8, zorder=10) # linestyle=\"--\"\n",
    "\n",
    "ax.legend()\n",
    "plt.show()"
   ]
  },
  {
   "cell_type": "code",
   "execution_count": 29,
   "metadata": {},
   "outputs": [
    {
     "name": "stdout",
     "output_type": "stream",
     "text": [
      "A = 203, B = 191, C = 41\n",
      "n_sites_binding = 435\n",
      "n_sites_a_high_bound = 119\n",
      "n_sites_b_high_bound = 48\n",
      "n_sites_c_high_bound = 21\n",
      "highly_bound_sites_percent = 43.2183908045977\n"
     ]
    }
   ],
   "source": [
    "a_sites = len(energy_a_sites)\n",
    "b_sites = len(energy_b_sites)\n",
    "c_sites = len(energy_c_sites)\n",
    "n_sites_binding = a_sites + b_sites + c_sites\n",
    "\n",
    "print(f\"A = {a_sites}, B = {b_sites}, C = {c_sites}\")\n",
    "print(f\"{n_sites_binding = }\")\n",
    "n_sites_a_high_bound = len(energy_a_sites[energy_a_sites>cohesive_energy]) \n",
    "n_sites_b_high_bound = len(energy_b_sites[energy_b_sites>cohesive_energy])\n",
    "n_sites_c_high_bound = len(energy_c_sites[energy_c_sites>cohesive_energy])\n",
    "print(f\"{n_sites_a_high_bound = }\")\n",
    "print(f\"{n_sites_b_high_bound = }\")\n",
    "print(f\"{n_sites_c_high_bound = }\")\n",
    "highly_bound_sites_percent = (n_sites_a_high_bound + n_sites_b_high_bound + n_sites_c_high_bound)/n_sites_binding * 100\n",
    "print(f\"{highly_bound_sites_percent = }\")"
   ]
  },
  {
   "cell_type": "code",
   "execution_count": null,
   "metadata": {},
   "outputs": [],
   "source": []
  }
 ],
 "metadata": {
  "kernelspec": {
   "display_name": "Python 3",
   "language": "python",
   "name": "python3"
  },
  "language_info": {
   "codemirror_mode": {
    "name": "ipython",
    "version": 3
   },
   "file_extension": ".py",
   "mimetype": "text/x-python",
   "name": "python",
   "nbconvert_exporter": "python",
   "pygments_lexer": "ipython3",
   "version": "3.12.7"
  }
 },
 "nbformat": 4,
 "nbformat_minor": 2
}
